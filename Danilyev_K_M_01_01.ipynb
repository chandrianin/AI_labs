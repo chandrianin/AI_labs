{
 "cells": [
  {
   "metadata": {},
   "cell_type": "markdown",
   "source": [
    "## Тема «Основные операции»\n",
    "### Самостоятельная работа: основные операции в Python. Ввод и вывод значений."
   ],
   "id": "5037488c8e5f382d"
  },
  {
   "metadata": {
    "ExecuteTime": {
     "end_time": "2024-10-17T18:10:26.177136Z",
     "start_time": "2024-10-17T18:10:26.171758Z"
    }
   },
   "cell_type": "code",
   "source": [
    "firstBannerShows = 1_000_000\n",
    "secondBannerShows = 100_000\n",
    "firstBannerClicks = 983\n",
    "secondBannerClicks = 3\n",
    "\n",
    "firstCTR = firstBannerClicks / firstBannerShows\n",
    "secondCTR = secondBannerClicks / secondBannerShows\n",
    "\n",
    "averageCTR = (firstCTR + secondCTR) / 2"
   ],
   "id": "5dcadec67ef91f20",
   "outputs": [],
   "execution_count": 19
  },
  {
   "metadata": {},
   "cell_type": "markdown",
   "source": "Скрипт, выводящий на экран отношение кликов по баннерам к их показам (т. е. CTR)",
   "id": "c2fa63c6ea4edfb0"
  },
  {
   "cell_type": "code",
   "id": "initial_id",
   "metadata": {
    "collapsed": true,
    "ExecuteTime": {
     "end_time": "2024-10-17T18:24:18.216655Z",
     "start_time": "2024-10-17T18:24:18.211726Z"
    }
   },
   "source": "print(f\"CTR первого баннера равен {firstCTR:.4%}, второго - {secondCTR:.3%}\")",
   "outputs": [
    {
     "name": "stdout",
     "output_type": "stream",
     "text": [
      "CTR первого баннера равен 0.0983%, второго - 0.003%\n"
     ]
    }
   ],
   "execution_count": 36
  },
  {
   "metadata": {},
   "cell_type": "markdown",
   "source": [
    "Скрипт, проверяющий превышает ли средний CTR обеих кампаний\n",
    "определенное значение."
   ],
   "id": "ede1a33797f93d22"
  },
  {
   "metadata": {
    "ExecuteTime": {
     "end_time": "2024-10-17T18:24:29.184641Z",
     "start_time": "2024-10-17T18:24:29.179190Z"
    }
   },
   "cell_type": "code",
   "source": [
    "testAverage = 0.0000001\n",
    "if averageCTR > testAverage:\n",
    "    print(f\"Средний CTR превышает значение {testAverage:.5%}\")"
   ],
   "id": "53f4ccdb460f26b1",
   "outputs": [
    {
     "name": "stdout",
     "output_type": "stream",
     "text": [
      "Средний CTR превышает значение 0.00001%\n"
     ]
    }
   ],
   "execution_count": 38
  },
  {
   "metadata": {},
   "cell_type": "markdown",
   "source": [
    "> Посчитайте во сколько раз CTR первого баннера больше, чем CTR\n",
    "второго."
   ],
   "id": "63eb13cc9f718166"
  },
  {
   "metadata": {
    "ExecuteTime": {
     "end_time": "2024-10-17T18:20:04.730480Z",
     "start_time": "2024-10-17T18:20:04.725402Z"
    }
   },
   "cell_type": "code",
   "source": "print(f\"CTR первого баннера больше в {int(round(firstCTR / secondCTR, 0))} раза\")",
   "id": "fbc4ed7524e0bc04",
   "outputs": [
    {
     "name": "stdout",
     "output_type": "stream",
     "text": [
      "CTR первого баннера больше в 33 раза\n"
     ]
    }
   ],
   "execution_count": 30
  },
  {
   "metadata": {},
   "cell_type": "markdown",
   "source": [
    "> Выведите на экран тип, который получается при вычислении\n",
    "квадратного корня из 2. Квадратный корень идентичен возведению в степень\n",
    "0.5.        "
   ],
   "id": "c965304a70252b6e"
  },
  {
   "metadata": {
    "ExecuteTime": {
     "end_time": "2024-10-17T18:22:24.550774Z",
     "start_time": "2024-10-17T18:22:24.546363Z"
    }
   },
   "cell_type": "code",
   "source": [
    "from math import sqrt\n",
    "\n",
    "print(f\"Тип {type(sqrt(2))}\")"
   ],
   "id": "891f666c352c4c03",
   "outputs": [
    {
     "name": "stdout",
     "output_type": "stream",
     "text": [
      "Тип <class 'float'>\n"
     ]
    }
   ],
   "execution_count": 32
  },
  {
   "metadata": {},
   "cell_type": "markdown",
   "source": [
    "> Вам дана следующая строка с названиями файлов, которые идут не по\n",
    "порядку: \"003_logs_2017-11-03;001_logs_2017-11-01;005_logs_2017-11-\n",
    "05;002_logs_2017-11-02;004_logs_2017-11-04\"\n",
    "Запишите эту строку в переменную fileString\n",
    "Вам необходимо:\n",
    "> 1. Преобразовать эту строку в лист (назовите его fileList)\n",
    "Напишите код для преобразования\n",
    "> 2. Отсортировать список по возрастанию дат (т. е. чтобы первым был\n",
    "файл 001_logs_2017-11-01, а последним - 005_logs_2017-11-05)\n",
    "Напишите код для преобразования\n",
    "> 3. Добавить в лист следующий элемент: 006_logs_2017-11-06"
   ],
   "id": "af18e32a1fb415b"
  },
  {
   "metadata": {
    "ExecuteTime": {
     "end_time": "2024-10-17T18:53:54.352104Z",
     "start_time": "2024-10-17T18:53:54.346899Z"
    }
   },
   "cell_type": "code",
   "source": [
    "inputString = \"003_logs_2017-11-03;001_logs_2017-11-01;005_logs_2017-11-05;002_logs_2017-11-02;004_logs_2017-11-04\"\n",
    "logsList = inputString.split(\";\")\n",
    "logsList.append(\"006_logs_2017-11-06\")\n",
    "logsList.sort()\n",
    "print(logsList)\n",
    "\n"
   ],
   "id": "f401df061566982",
   "outputs": [
    {
     "name": "stdout",
     "output_type": "stream",
     "text": [
      "['001_logs_2017-11-01', '002_logs_2017-11-02', '003_logs_2017-11-03', '004_logs_2017-11-04', '005_logs_2017-11-05', '006_logs_2017-11-06']\n"
     ]
    }
   ],
   "execution_count": 49
  },
  {
   "metadata": {},
   "cell_type": "markdown",
   "source": [
    "> Преобразуйте этот список в строку, используя в качестве разделителя\n",
    "две вертикальные черты ||."
   ],
   "id": "57f714398b8c9f98"
  },
  {
   "metadata": {
    "ExecuteTime": {
     "end_time": "2024-10-17T18:54:59.589568Z",
     "start_time": "2024-10-17T18:54:59.584725Z"
    }
   },
   "cell_type": "code",
   "source": [
    "logsString = \"||\".join(logsList)\n",
    "print(logsString)"
   ],
   "id": "1c91960e2054c83b",
   "outputs": [
    {
     "name": "stdout",
     "output_type": "stream",
     "text": [
      "001_logs_2017-11-01||002_logs_2017-11-02||003_logs_2017-11-03||004_logs_2017-11-04||005_logs_2017-11-05||006_logs_2017-11-06\n"
     ]
    }
   ],
   "execution_count": 51
  },
  {
   "metadata": {},
   "cell_type": "markdown",
   "source": [
    "> Возьмем другой пример списка:\n",
    "sequence = [ 'Google Adwords', 'Yandex Direct', 'Facebook', 'VK', 'Partner' ]<br>\n",
    "> Как получить следующий результат?\n",
    "['Facebook', 'VK']"
   ],
   "id": "434ebf1324b8b253"
  },
  {
   "metadata": {
    "ExecuteTime": {
     "end_time": "2024-10-17T18:57:37.664766Z",
     "start_time": "2024-10-17T18:57:37.660128Z"
    }
   },
   "cell_type": "code",
   "source": [
    "inputList = [ 'Google Adwords', 'Yandex Direct', 'Facebook', 'VK', 'Partner' ]\n",
    "print(inputList[2:4])"
   ],
   "id": "e74b503d6bcdf727",
   "outputs": [
    {
     "name": "stdout",
     "output_type": "stream",
     "text": [
      "['Facebook', 'VK']\n"
     ]
    }
   ],
   "execution_count": 52
  }
 ],
 "metadata": {
  "kernelspec": {
   "display_name": "Python 3",
   "language": "python",
   "name": "python3"
  },
  "language_info": {
   "codemirror_mode": {
    "name": "ipython",
    "version": 2
   },
   "file_extension": ".py",
   "mimetype": "text/x-python",
   "name": "python",
   "nbconvert_exporter": "python",
   "pygments_lexer": "ipython2",
   "version": "2.7.6"
  }
 },
 "nbformat": 4,
 "nbformat_minor": 5
}
