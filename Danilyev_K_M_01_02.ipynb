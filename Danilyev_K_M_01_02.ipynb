{
 "cells": [
  {
   "metadata": {},
   "cell_type": "markdown",
   "source": [
    "## Тема «Структуры данных»\n",
    "### Самостоятельная работа: создание и работа со списками (листами)"
   ],
   "id": "8cb66a6e7854f9f0"
  },
  {
   "metadata": {},
   "cell_type": "markdown",
   "source": [
    "> Дана строчка из CSV-файла, которая содержит набор поисковых\n",
    "запросов, разделенных запятой:\n",
    "\"смотреть сериалы онлайн,новости спорта,афиша кино,курс\n",
    "доллара,сериалы этим летом,курс по питону,сериалы про спорт\"\n",
    "Необходимо отфильтровать этот список запросов, оставив только те,\n",
    "что содержат слово 'сериалы'"
   ],
   "id": "61d34ff53b15660d"
  },
  {
   "cell_type": "code",
   "id": "initial_id",
   "metadata": {
    "collapsed": true,
    "ExecuteTime": {
     "end_time": "2024-10-17T18:42:10.207176Z",
     "start_time": "2024-10-17T18:42:10.201783Z"
    }
   },
   "source": [
    "requestsList = [\"смотреть сериалы онлайн\", \"новости спорта\", \"афиша кино\", \"курс доллара\", \"сериалы этим летом\",\n",
    "                \"курс по питону\", \"сериалы про спорт\"]\n",
    "result = filter(lambda x: \"сериалы\" in x, requestsList)\n",
    "print(list(result))"
   ],
   "outputs": [
    {
     "name": "stdout",
     "output_type": "stream",
     "text": [
      "['смотреть сериалы онлайн', 'сериалы этим летом', 'сериалы про спорт']\n"
     ]
    }
   ],
   "execution_count": 12
  },
  {
   "metadata": {},
   "cell_type": "markdown",
   "source": [
    "> Создайте лист из трех слов: 'один', 'два', 'три'\n",
    "Выведите на экран этот список, отсортированный по алфавиту\n",
    "(используйте следующий формат: ['...', '...', '...'], где вместо многоточия\n",
    "должны стоять элементы списка)"
   ],
   "id": "43376ba180efa194"
  },
  {
   "metadata": {
    "ExecuteTime": {
     "end_time": "2024-10-17T18:46:43.873942Z",
     "start_time": "2024-10-17T18:46:43.868899Z"
    }
   },
   "cell_type": "code",
   "source": [
    "numbersList = [\"один\", \"два\", \"три\"]\n",
    "print(sorted(numbersList))"
   ],
   "id": "c17ff6078e03117",
   "outputs": [
    {
     "name": "stdout",
     "output_type": "stream",
     "text": [
      "['два', 'один', 'три']\n"
     ]
    }
   ],
   "execution_count": 14
  }
 ],
 "metadata": {
  "kernelspec": {
   "display_name": "Python 3",
   "language": "python",
   "name": "python3"
  },
  "language_info": {
   "codemirror_mode": {
    "name": "ipython",
    "version": 2
   },
   "file_extension": ".py",
   "mimetype": "text/x-python",
   "name": "python",
   "nbconvert_exporter": "python",
   "pygments_lexer": "ipython2",
   "version": "2.7.6"
  }
 },
 "nbformat": 4,
 "nbformat_minor": 5
}
